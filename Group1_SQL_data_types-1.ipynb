{
 "cells": [
  {
   "cell_type": "markdown",
   "metadata": {
    "tags": []
   },
   "source": [
    "# SQL Data Types, Aggregation, Sorting And Basic Calculations\n",
    "## Group 1\n",
    "\n",
    "- Adebowale Tosin\n",
    "- Adetunji Emmanuel\n",
    "- Adetunji Raheeemat\n",
    "- Ajaye Othuke\n",
    "- Akindele Yinka"
   ]
  },
  {
   "cell_type": "markdown",
   "metadata": {
    "tags": []
   },
   "source": [
    "## @Tosin\n",
    "\n",
    "# Querying numerical data;\n",
    "\n",
    "- Introduction\n",
    "- Numeric data\n",
    "    - Integers \n",
    "    - Floating Point and Fixed Point"
   ]
  },
  {
   "cell_type": "markdown",
   "metadata": {
    "jp-MarkdownHeadingCollapsed": true,
    "tags": []
   },
   "source": [
    "## Introduction"
   ]
  },
  {
   "cell_type": "markdown",
   "metadata": {
    "tags": []
   },
   "source": [
    "SQL databases consist of tables which in turn consist of rows and columns. Each column is allowed to store a single datatype and for the most pat static.\n",
    "\n",
    "<div>\n",
    "<img src=\"https://github.com/toarstn92/Presentation/blob/main/img/1.png?raw=true\" width=\"800\"/>\n",
    "</div>"
   ]
  },
  {
   "cell_type": "markdown",
   "metadata": {},
   "source": [
    "This datatype is allocated to a given column based on:\n",
    "\n",
    "1. The **type** of data that needs to be stored in the column.\n",
    "2. The **size** (in bytes) required to store each datum in the column.\n",
    "\n",
    "As such, the general rule of thumb is to use the smallest version of the data type that also has enough capacity to reliably support the data to be stored.\n",
    "\n",
    "<div>\n",
    "<img src=\"https://github.com/toarstn92/Presentation/blob/main/img/2.png?raw=true\" width=\"800\"/>\n",
    "</div>"
   ]
  },
  {
   "cell_type": "markdown",
   "metadata": {
    "jp-MarkdownHeadingCollapsed": true,
    "tags": []
   },
   "source": [
    "## Numeric data"
   ]
  },
  {
   "cell_type": "markdown",
   "metadata": {
    "tags": []
   },
   "source": [
    "When using SQL in the context of data science, we will need to be familiar with numerical data in the form of integers and floats.\n",
    "\n",
    "In SQL, numerical datatypes store bytes of data (2/4/8 etc.)\n",
    "1 byte = 8 bits\n",
    "<br>A number represented by 32 bits (i.e 4 bytes) can be anywhere between 0 and $2^{32}-1$ = 4,294,967,295."
   ]
  },
  {
   "cell_type": "markdown",
   "metadata": {
    "jp-MarkdownHeadingCollapsed": true,
    "tags": []
   },
   "source": [
    "## Integers"
   ]
  },
  {
   "cell_type": "markdown",
   "metadata": {
    "tags": []
   },
   "source": [
    "SQL offers multiple datatypes for storing integer values (negative and positive whole numbers). Recall that the calculation above did not account for the presence of both positive and negative whole numbers (signed integers).\n",
    "\n",
    "For signed integers, the storage size would be split in half, each half accommodating both sides of the number line.\n",
    "<br>Thus, a signed integer represented by 32 bits (i.e 4 bytes) will be anywhere between $-2^{31}$ to $2^{31}-1$ = -2,147,483,648 to 2,147,483,647.\n",
    "\n",
    "The INT datatype only supports 4 bytes of memory and integers between the given range and while this is sufficient for most datasets, SQL has other integer data types that vary depending on the storage size:\n",
    "\n",
    "- `TINYINT` - allocates 1 byte of memory per integer and supports integers between the range $-2^{7}$ to $2^{7}-1$.\n",
    "- `SMALLINT` - allocates 2 bytes of memory per integer and supports integers between the range $-2^{15}$ to $2^{15}-1$. For example, the employee age (this value will always be positive and seldom exceed 100).\n",
    "- `INTEGER` (or `INT` depending on the SQL engine used) - allocates 4 bytes of memory per integer and supports integers between the range $-2^{31}$ to $2^{31}-1$.\n",
    "- `BIGINT`  - allocates 8 bytes of memory per integer and supports integers between the range $-2^{63}$ to $2^{63}-1$.\n",
    "- `SERIAL` - a special integer datatype that auto increments when rows are added to the table (useful for creating id columns). Like the `INTEGER` data type, the `SERIAL` data type is 4 bytes in size but only supports integers from $1$ to $2^{63}-1$. Furthermore, it also has `BIGSERIAL` and `SMALLSERIAL` variants which correspond to the `BIGINT` and `SMALLINT` data types respectively."
   ]
  },
  {
   "cell_type": "markdown",
   "metadata": {
    "jp-MarkdownHeadingCollapsed": true,
    "tags": []
   },
   "source": [
    "## Code"
   ]
  },
  {
   "cell_type": "code",
   "execution_count": 1,
   "metadata": {},
   "outputs": [],
   "source": [
    "# import libraries\n",
    "import sqlite3\n",
    "%load_ext sql"
   ]
  },
  {
   "cell_type": "code",
   "execution_count": 2,
   "metadata": {},
   "outputs": [
    {
     "data": {
      "text/plain": [
       "<sqlite3.Connection at 0x208a3dd4d50>"
      ]
     },
     "execution_count": 2,
     "metadata": {},
     "output_type": "execute_result"
    }
   ],
   "source": [
    "# We will create an empty database using sqlite3\n",
    "\n",
    "sqlite3.connect('sql_datatype_numerical.db')"
   ]
  },
  {
   "cell_type": "code",
   "execution_count": 3,
   "metadata": {},
   "outputs": [],
   "source": [
    "# Load SQLite database\n",
    "\n",
    "%sql sqlite:///sql_datatype_numerical.db"
   ]
  },
  {
   "cell_type": "code",
   "execution_count": 17,
   "metadata": {},
   "outputs": [
    {
     "name": "stdout",
     "output_type": "stream",
     "text": [
      " * sqlite:///sql_datatype_numerical.db\n",
      "Done.\n"
     ]
    },
    {
     "data": {
      "text/html": [
       "<table>\n",
       "    <tr>\n",
       "        <th>name</th>\n",
       "    </tr>\n",
       "    <tr>\n",
       "        <td>example</td>\n",
       "    </tr>\n",
       "</table>"
      ],
      "text/plain": [
       "[('example',)]"
      ]
     },
     "execution_count": 17,
     "metadata": {},
     "output_type": "execute_result"
    }
   ],
   "source": [
    "%%sql\n",
    "\n",
    "-- check that database is empty --\n",
    "SELECT name \n",
    "FROM sqlite_master \n",
    "WHERE type IN ('table','view') AND name NOT LIKE 'sqlite_%' \n",
    "ORDER BY 1"
   ]
  },
  {
   "cell_type": "code",
   "execution_count": 57,
   "metadata": {},
   "outputs": [
    {
     "name": "stdout",
     "output_type": "stream",
     "text": [
      " * sqlite:///sql_datatype_numerical.db\n",
      "Done.\n"
     ]
    },
    {
     "data": {
      "text/plain": [
       "[]"
      ]
     },
     "execution_count": 57,
     "metadata": {},
     "output_type": "execute_result"
    }
   ],
   "source": [
    "%%sql\n",
    "\n",
    "-- create an empty table with column \"tiny\" in the database--\n",
    "CREATE TABLE example (\n",
    "        tiny tinyint\n",
    ");"
   ]
  },
  {
   "cell_type": "code",
   "execution_count": 58,
   "metadata": {},
   "outputs": [
    {
     "name": "stdout",
     "output_type": "stream",
     "text": [
      " * sqlite:///sql_datatype_numerical.db\n",
      "Done.\n"
     ]
    },
    {
     "data": {
      "text/html": [
       "<table>\n",
       "    <tr>\n",
       "        <th>cid</th>\n",
       "        <th>name</th>\n",
       "        <th>type</th>\n",
       "        <th>notnull</th>\n",
       "        <th>dflt_value</th>\n",
       "        <th>pk</th>\n",
       "    </tr>\n",
       "    <tr>\n",
       "        <td>0</td>\n",
       "        <td>tiny</td>\n",
       "        <td>tinyint</td>\n",
       "        <td>0</td>\n",
       "        <td>None</td>\n",
       "        <td>0</td>\n",
       "    </tr>\n",
       "</table>"
      ],
      "text/plain": [
       "[(0, 'tiny', 'tinyint', 0, None, 0)]"
      ]
     },
     "execution_count": 58,
     "metadata": {},
     "output_type": "execute_result"
    }
   ],
   "source": [
    "%%sql\n",
    "\n",
    "-- check column properties --\n",
    "PRAGMA table_info (example);"
   ]
  },
  {
   "cell_type": "code",
   "execution_count": 66,
   "metadata": {},
   "outputs": [
    {
     "name": "stdout",
     "output_type": "stream",
     "text": [
      " * sqlite:///sql_datatype_numerical.db\n",
      "(sqlite3.OperationalError) near \"SHOW\": syntax error\n",
      "[SQL: SHOW VARIABLES LIKE 'sql_mode';]\n",
      "(Background on this error at: https://sqlalche.me/e/14/e3q8)\n"
     ]
    }
   ],
   "source": [
    "%%sql\n",
    "\n",
    "SHOW VARIABLES LIKE 'sql_mode';"
   ]
  },
  {
   "cell_type": "code",
   "execution_count": 61,
   "metadata": {},
   "outputs": [
    {
     "name": "stdout",
     "output_type": "stream",
     "text": [
      " * sqlite:///sql_datatype_numerical.db\n",
      "2 rows affected.\n"
     ]
    },
    {
     "data": {
      "text/plain": [
       "[]"
      ]
     },
     "execution_count": 61,
     "metadata": {},
     "output_type": "execute_result"
    }
   ],
   "source": [
    "%%sql\n",
    "\n",
    "INSERT INTO example\n",
    "VALUES (255), (255);"
   ]
  },
  {
   "cell_type": "code",
   "execution_count": 67,
   "metadata": {},
   "outputs": [
    {
     "name": "stdout",
     "output_type": "stream",
     "text": [
      " * sqlite:///sql_datatype_numerical.db\n",
      "Done.\n"
     ]
    },
    {
     "data": {
      "text/html": [
       "<table>\n",
       "    <tr>\n",
       "        <th>tiny</th>\n",
       "    </tr>\n",
       "    <tr>\n",
       "        <td>255</td>\n",
       "    </tr>\n",
       "    <tr>\n",
       "        <td>255</td>\n",
       "    </tr>\n",
       "</table>"
      ],
      "text/plain": [
       "[(255,), (255,)]"
      ]
     },
     "execution_count": 67,
     "metadata": {},
     "output_type": "execute_result"
    }
   ],
   "source": [
    "%%sql\n",
    "\n",
    "SELECT *\n",
    "FROM example;"
   ]
  },
  {
   "cell_type": "code",
   "execution_count": 56,
   "metadata": {},
   "outputs": [
    {
     "name": "stdout",
     "output_type": "stream",
     "text": [
      " * sqlite:///sql_datatype_numerical.db\n",
      "Done.\n"
     ]
    },
    {
     "data": {
      "text/plain": [
       "[]"
      ]
     },
     "execution_count": 56,
     "metadata": {},
     "output_type": "execute_result"
    }
   ],
   "source": [
    "%%sql\n",
    "\n",
    "DROP TABLE example;"
   ]
  },
  {
   "cell_type": "markdown",
   "metadata": {},
   "source": [
    "With this knowledge, let's look at the tracks table in the Chinook database:"
   ]
  },
  {
   "cell_type": "code",
   "execution_count": 3,
   "metadata": {},
   "outputs": [
    {
     "name": "stdout",
     "output_type": "stream",
     "text": [
      " * sqlite:///chinook.db\n",
      "Done.\n"
     ]
    },
    {
     "data": {
      "text/html": [
       "<table>\n",
       "    <tr>\n",
       "        <th>cid</th>\n",
       "        <th>name</th>\n",
       "        <th>type</th>\n",
       "        <th>notnull</th>\n",
       "        <th>dflt_value</th>\n",
       "        <th>pk</th>\n",
       "    </tr>\n",
       "    <tr>\n",
       "        <td>0</td>\n",
       "        <td>TrackId</td>\n",
       "        <td>INTEGER</td>\n",
       "        <td>1</td>\n",
       "        <td>None</td>\n",
       "        <td>1</td>\n",
       "    </tr>\n",
       "    <tr>\n",
       "        <td>1</td>\n",
       "        <td>Name</td>\n",
       "        <td>NVARCHAR(200)</td>\n",
       "        <td>1</td>\n",
       "        <td>None</td>\n",
       "        <td>0</td>\n",
       "    </tr>\n",
       "    <tr>\n",
       "        <td>2</td>\n",
       "        <td>AlbumId</td>\n",
       "        <td>INTEGER</td>\n",
       "        <td>0</td>\n",
       "        <td>None</td>\n",
       "        <td>0</td>\n",
       "    </tr>\n",
       "    <tr>\n",
       "        <td>3</td>\n",
       "        <td>MediaTypeId</td>\n",
       "        <td>INTEGER</td>\n",
       "        <td>1</td>\n",
       "        <td>None</td>\n",
       "        <td>0</td>\n",
       "    </tr>\n",
       "    <tr>\n",
       "        <td>4</td>\n",
       "        <td>GenreId</td>\n",
       "        <td>INTEGER</td>\n",
       "        <td>0</td>\n",
       "        <td>None</td>\n",
       "        <td>0</td>\n",
       "    </tr>\n",
       "    <tr>\n",
       "        <td>5</td>\n",
       "        <td>Composer</td>\n",
       "        <td>NVARCHAR(220)</td>\n",
       "        <td>0</td>\n",
       "        <td>None</td>\n",
       "        <td>0</td>\n",
       "    </tr>\n",
       "    <tr>\n",
       "        <td>6</td>\n",
       "        <td>Milliseconds</td>\n",
       "        <td>INTEGER</td>\n",
       "        <td>1</td>\n",
       "        <td>None</td>\n",
       "        <td>0</td>\n",
       "    </tr>\n",
       "    <tr>\n",
       "        <td>7</td>\n",
       "        <td>Bytes</td>\n",
       "        <td>INTEGER</td>\n",
       "        <td>0</td>\n",
       "        <td>None</td>\n",
       "        <td>0</td>\n",
       "    </tr>\n",
       "    <tr>\n",
       "        <td>8</td>\n",
       "        <td>UnitPrice</td>\n",
       "        <td>NUMERIC(10,2)</td>\n",
       "        <td>1</td>\n",
       "        <td>None</td>\n",
       "        <td>0</td>\n",
       "    </tr>\n",
       "</table>"
      ],
      "text/plain": [
       "[(0, 'TrackId', 'INTEGER', 1, None, 1),\n",
       " (1, 'Name', 'NVARCHAR(200)', 1, None, 0),\n",
       " (2, 'AlbumId', 'INTEGER', 0, None, 0),\n",
       " (3, 'MediaTypeId', 'INTEGER', 1, None, 0),\n",
       " (4, 'GenreId', 'INTEGER', 0, None, 0),\n",
       " (5, 'Composer', 'NVARCHAR(220)', 0, None, 0),\n",
       " (6, 'Milliseconds', 'INTEGER', 1, None, 0),\n",
       " (7, 'Bytes', 'INTEGER', 0, None, 0),\n",
       " (8, 'UnitPrice', 'NUMERIC(10,2)', 1, None, 0)]"
      ]
     },
     "execution_count": 3,
     "metadata": {},
     "output_type": "execute_result"
    }
   ],
   "source": [
    "%%sql\n",
    "\n",
    "PRAGMA table_info(tracks);"
   ]
  },
  {
   "cell_type": "markdown",
   "metadata": {},
   "source": [
    "We can see that it contains 6 integer columns, the `TrackId`, `AlbumId`, `MediaTypeId`, `GenreId`, `Milliseconds`, and `Bytes` columns. \n",
    "\n",
    "Let's take a closer look at what these columns contain:\n",
    "\n",
    "**Note, we limit our results to 10 rows for legibility.*"
   ]
  },
  {
   "cell_type": "code",
   "execution_count": 4,
   "metadata": {},
   "outputs": [
    {
     "name": "stdout",
     "output_type": "stream",
     "text": [
      " * sqlite:///chinook.db\n",
      "Done.\n"
     ]
    },
    {
     "data": {
      "text/html": [
       "<table>\n",
       "    <tr>\n",
       "        <th>TrackId</th>\n",
       "        <th>AlbumId</th>\n",
       "        <th>MediaTypeId</th>\n",
       "        <th>GenreId</th>\n",
       "        <th>Milliseconds</th>\n",
       "        <th>Bytes</th>\n",
       "    </tr>\n",
       "    <tr>\n",
       "        <td>1</td>\n",
       "        <td>1</td>\n",
       "        <td>1</td>\n",
       "        <td>1</td>\n",
       "        <td>343719</td>\n",
       "        <td>11170334</td>\n",
       "    </tr>\n",
       "    <tr>\n",
       "        <td>2</td>\n",
       "        <td>2</td>\n",
       "        <td>2</td>\n",
       "        <td>1</td>\n",
       "        <td>342562</td>\n",
       "        <td>5510424</td>\n",
       "    </tr>\n",
       "    <tr>\n",
       "        <td>3</td>\n",
       "        <td>3</td>\n",
       "        <td>2</td>\n",
       "        <td>1</td>\n",
       "        <td>230619</td>\n",
       "        <td>3990994</td>\n",
       "    </tr>\n",
       "    <tr>\n",
       "        <td>4</td>\n",
       "        <td>3</td>\n",
       "        <td>2</td>\n",
       "        <td>1</td>\n",
       "        <td>252051</td>\n",
       "        <td>4331779</td>\n",
       "    </tr>\n",
       "    <tr>\n",
       "        <td>5</td>\n",
       "        <td>3</td>\n",
       "        <td>2</td>\n",
       "        <td>1</td>\n",
       "        <td>375418</td>\n",
       "        <td>6290521</td>\n",
       "    </tr>\n",
       "    <tr>\n",
       "        <td>6</td>\n",
       "        <td>1</td>\n",
       "        <td>1</td>\n",
       "        <td>1</td>\n",
       "        <td>205662</td>\n",
       "        <td>6713451</td>\n",
       "    </tr>\n",
       "    <tr>\n",
       "        <td>7</td>\n",
       "        <td>1</td>\n",
       "        <td>1</td>\n",
       "        <td>1</td>\n",
       "        <td>233926</td>\n",
       "        <td>7636561</td>\n",
       "    </tr>\n",
       "    <tr>\n",
       "        <td>8</td>\n",
       "        <td>1</td>\n",
       "        <td>1</td>\n",
       "        <td>1</td>\n",
       "        <td>210834</td>\n",
       "        <td>6852860</td>\n",
       "    </tr>\n",
       "    <tr>\n",
       "        <td>9</td>\n",
       "        <td>1</td>\n",
       "        <td>1</td>\n",
       "        <td>1</td>\n",
       "        <td>203102</td>\n",
       "        <td>6599424</td>\n",
       "    </tr>\n",
       "    <tr>\n",
       "        <td>10</td>\n",
       "        <td>1</td>\n",
       "        <td>1</td>\n",
       "        <td>1</td>\n",
       "        <td>263497</td>\n",
       "        <td>8611245</td>\n",
       "    </tr>\n",
       "</table>"
      ],
      "text/plain": [
       "[(1, 1, 1, 1, 343719, 11170334),\n",
       " (2, 2, 2, 1, 342562, 5510424),\n",
       " (3, 3, 2, 1, 230619, 3990994),\n",
       " (4, 3, 2, 1, 252051, 4331779),\n",
       " (5, 3, 2, 1, 375418, 6290521),\n",
       " (6, 1, 1, 1, 205662, 6713451),\n",
       " (7, 1, 1, 1, 233926, 7636561),\n",
       " (8, 1, 1, 1, 210834, 6852860),\n",
       " (9, 1, 1, 1, 203102, 6599424),\n",
       " (10, 1, 1, 1, 263497, 8611245)]"
      ]
     },
     "execution_count": 4,
     "metadata": {},
     "output_type": "execute_result"
    }
   ],
   "source": [
    "%%sql\n",
    "\n",
    "SELECT TrackId, AlbumId, MediaTypeId, GenreId, Milliseconds, Bytes\n",
    "FROM tracks\n",
    "LIMIT 10;"
   ]
  },
  {
   "cell_type": "markdown",
   "metadata": {},
   "source": [
    "As expected all these columns contain integers. However, most of them are column IDs, this means that we could generate them ourselves using the `SERIAL` integer types if we had to rebuild the database. A good way to analyse the properties of a given numerical column is to use summary statistics. \n",
    "\n",
    "Let's do this for the Bytes and the Milliseconds columns. "
   ]
  },
  {
   "cell_type": "code",
   "execution_count": 5,
   "metadata": {},
   "outputs": [
    {
     "name": "stdout",
     "output_type": "stream",
     "text": [
      " * sqlite:///chinook.db\n",
      "Done.\n"
     ]
    },
    {
     "data": {
      "text/html": [
       "<table>\n",
       "    <tr>\n",
       "        <th>Name</th>\n",
       "        <th>Bytes_Max</th>\n",
       "        <th>Bytes_Min</th>\n",
       "        <th>Bytes_Mean</th>\n",
       "        <th>Milliseconds_Max</th>\n",
       "        <th>Milliseconds_Min</th>\n",
       "        <th>Milliseconds_Mean</th>\n",
       "    </tr>\n",
       "    <tr>\n",
       "        <td>AAC audio file</td>\n",
       "        <td>6034098</td>\n",
       "        <td>2775071</td>\n",
       "        <td>4476793.818181818</td>\n",
       "        <td>366085</td>\n",
       "        <td>172710</td>\n",
       "        <td>276506.9090909091</td>\n",
       "    </tr>\n",
       "    <tr>\n",
       "        <td>MPEG audio file</td>\n",
       "        <td>52490554</td>\n",
       "        <td>38747</td>\n",
       "        <td>8630428.7656559</td>\n",
       "        <td>1612329</td>\n",
       "        <td>1071</td>\n",
       "        <td>265574.28872775217</td>\n",
       "    </tr>\n",
       "    <tr>\n",
       "        <td>Protected AAC audio file</td>\n",
       "        <td>11157785</td>\n",
       "        <td>1189062</td>\n",
       "        <td>4663795.573839663</td>\n",
       "        <td>672773</td>\n",
       "        <td>66639</td>\n",
       "        <td>281723.87341772154</td>\n",
       "    </tr>\n",
       "    <tr>\n",
       "        <td>Protected MPEG-4 video file</td>\n",
       "        <td>1059546140</td>\n",
       "        <td>20831818</td>\n",
       "        <td>420493713.0140187</td>\n",
       "        <td>5286953</td>\n",
       "        <td>112712</td>\n",
       "        <td>2342940.425233645</td>\n",
       "    </tr>\n",
       "    <tr>\n",
       "        <td>Purchased AAC audio file</td>\n",
       "        <td>16454937</td>\n",
       "        <td>2229617</td>\n",
       "        <td>8759372.42857143</td>\n",
       "        <td>493573</td>\n",
       "        <td>51780</td>\n",
       "        <td>260894.7142857143</td>\n",
       "    </tr>\n",
       "</table>"
      ],
      "text/plain": [
       "[('AAC audio file', 6034098, 2775071, 4476793.818181818, 366085, 172710, 276506.9090909091),\n",
       " ('MPEG audio file', 52490554, 38747, 8630428.7656559, 1612329, 1071, 265574.28872775217),\n",
       " ('Protected AAC audio file', 11157785, 1189062, 4663795.573839663, 672773, 66639, 281723.87341772154),\n",
       " ('Protected MPEG-4 video file', 1059546140, 20831818, 420493713.0140187, 5286953, 112712, 2342940.425233645),\n",
       " ('Purchased AAC audio file', 16454937, 2229617, 8759372.42857143, 493573, 51780, 260894.7142857143)]"
      ]
     },
     "execution_count": 5,
     "metadata": {},
     "output_type": "execute_result"
    }
   ],
   "source": [
    "%%sql\n",
    "\n",
    "SELECT mt.Name, max(t.Bytes) AS \"Bytes_Max\", min(t.Bytes) AS \"Bytes_Min\", avg(t.Bytes) AS \"Bytes_Mean\", \n",
    "       max(t.Milliseconds) AS \"Milliseconds_Max\", min(t.Milliseconds) AS \"Milliseconds_Min\", avg(t.Milliseconds) \"Milliseconds_Mean\" \n",
    "FROM tracks AS t\n",
    "LEFT JOIN media_types AS mt\n",
    "ON mt.MediaTypeId = t.MediaTypeId\n",
    "GROUP BY mt.Name;"
   ]
  },
  {
   "cell_type": "markdown",
   "metadata": {},
   "source": [
    "Since the Bytes and Milliseconds are the same data type, the same limit applies to both of them. This means that we can't store tracks that are greater than $2^{31}-1$ bytes in size (i.e., 2 147 483 647 bytes or 2.15 gigabytes) and tracks that are longer than $2^{31}-1$ milliseconds (i.e., 597 hours). As you will see in later trains, it is important to know the datatypes of the columns we want to insert data into as well as the supported range of values."
   ]
  },
  {
   "cell_type": "markdown",
   "metadata": {
    "jp-MarkdownHeadingCollapsed": true,
    "tags": []
   },
   "source": [
    "## Floating Point and Fixed Point"
   ]
  },
  {
   "cell_type": "markdown",
   "metadata": {},
   "source": [
    "SQL also has datatypes for storing decimal numbers. These include:\n",
    "\n",
    "- `DECIMAL` or `NUMERIC` - can store column values to user-specified precision (number of digits to the left and right of the decimal point) and variable storage size (based on specified precision). \n",
    "- `REAL` - allocates 4 bytes of memory per decimal and supports 7 decimal digits of fractional precision.\n",
    "- `DOUBLE PRECISION` - allocates 8 bytes of memory per decimal and supports up to 15 decimal digits of fractional precision.\n",
    "\n",
    "Let's take a look at the meta information of the invoices table:"
   ]
  },
  {
   "cell_type": "code",
   "execution_count": 5,
   "metadata": {},
   "outputs": [
    {
     "name": "stdout",
     "output_type": "stream",
     "text": [
      " * sqlite:///chinook.db\n",
      "Done.\n"
     ]
    },
    {
     "data": {
      "text/html": [
       "<table>\n",
       "    <tr>\n",
       "        <th>cid</th>\n",
       "        <th>name</th>\n",
       "        <th>type</th>\n",
       "        <th>notnull</th>\n",
       "        <th>dflt_value</th>\n",
       "        <th>pk</th>\n",
       "    </tr>\n",
       "    <tr>\n",
       "        <td>0</td>\n",
       "        <td>InvoiceId</td>\n",
       "        <td>INTEGER</td>\n",
       "        <td>1</td>\n",
       "        <td>None</td>\n",
       "        <td>1</td>\n",
       "    </tr>\n",
       "    <tr>\n",
       "        <td>1</td>\n",
       "        <td>CustomerId</td>\n",
       "        <td>INTEGER</td>\n",
       "        <td>1</td>\n",
       "        <td>None</td>\n",
       "        <td>0</td>\n",
       "    </tr>\n",
       "    <tr>\n",
       "        <td>2</td>\n",
       "        <td>InvoiceDate</td>\n",
       "        <td>DATETIME</td>\n",
       "        <td>1</td>\n",
       "        <td>None</td>\n",
       "        <td>0</td>\n",
       "    </tr>\n",
       "    <tr>\n",
       "        <td>3</td>\n",
       "        <td>BillingAddress</td>\n",
       "        <td>NVARCHAR(70)</td>\n",
       "        <td>0</td>\n",
       "        <td>None</td>\n",
       "        <td>0</td>\n",
       "    </tr>\n",
       "    <tr>\n",
       "        <td>4</td>\n",
       "        <td>BillingCity</td>\n",
       "        <td>NVARCHAR(40)</td>\n",
       "        <td>0</td>\n",
       "        <td>None</td>\n",
       "        <td>0</td>\n",
       "    </tr>\n",
       "    <tr>\n",
       "        <td>5</td>\n",
       "        <td>BillingState</td>\n",
       "        <td>NVARCHAR(40)</td>\n",
       "        <td>0</td>\n",
       "        <td>None</td>\n",
       "        <td>0</td>\n",
       "    </tr>\n",
       "    <tr>\n",
       "        <td>6</td>\n",
       "        <td>BillingCountry</td>\n",
       "        <td>NVARCHAR(40)</td>\n",
       "        <td>0</td>\n",
       "        <td>None</td>\n",
       "        <td>0</td>\n",
       "    </tr>\n",
       "    <tr>\n",
       "        <td>7</td>\n",
       "        <td>BillingPostalCode</td>\n",
       "        <td>NVARCHAR(10)</td>\n",
       "        <td>0</td>\n",
       "        <td>None</td>\n",
       "        <td>0</td>\n",
       "    </tr>\n",
       "    <tr>\n",
       "        <td>8</td>\n",
       "        <td>Total</td>\n",
       "        <td>NUMERIC(10,2)</td>\n",
       "        <td>1</td>\n",
       "        <td>None</td>\n",
       "        <td>0</td>\n",
       "    </tr>\n",
       "</table>"
      ],
      "text/plain": [
       "[(0, 'InvoiceId', 'INTEGER', 1, None, 1),\n",
       " (1, 'CustomerId', 'INTEGER', 1, None, 0),\n",
       " (2, 'InvoiceDate', 'DATETIME', 1, None, 0),\n",
       " (3, 'BillingAddress', 'NVARCHAR(70)', 0, None, 0),\n",
       " (4, 'BillingCity', 'NVARCHAR(40)', 0, None, 0),\n",
       " (5, 'BillingState', 'NVARCHAR(40)', 0, None, 0),\n",
       " (6, 'BillingCountry', 'NVARCHAR(40)', 0, None, 0),\n",
       " (7, 'BillingPostalCode', 'NVARCHAR(10)', 0, None, 0),\n",
       " (8, 'Total', 'NUMERIC(10,2)', 1, None, 0)]"
      ]
     },
     "execution_count": 5,
     "metadata": {},
     "output_type": "execute_result"
    }
   ],
   "source": [
    "%%sql\n",
    "\n",
    "PRAGMA table_info(invoices);"
   ]
  },
  {
   "cell_type": "markdown",
   "metadata": {},
   "source": [
    "Evidently, the Total column is the only decimal column in the table. Its data type `NUMERIC(10,2)`, means that the column supports 10 digits to the left of the decimal point and 2 digits to the right of the decimal point.\n",
    "\n",
    "Let's confirm this:"
   ]
  },
  {
   "cell_type": "code",
   "execution_count": 6,
   "metadata": {},
   "outputs": [
    {
     "name": "stdout",
     "output_type": "stream",
     "text": [
      " * sqlite:///chinook.db\n",
      "Done.\n"
     ]
    },
    {
     "data": {
      "text/html": [
       "<table>\n",
       "    <tr>\n",
       "        <th>Total</th>\n",
       "    </tr>\n",
       "    <tr>\n",
       "        <td>1.98</td>\n",
       "    </tr>\n",
       "    <tr>\n",
       "        <td>3.96</td>\n",
       "    </tr>\n",
       "    <tr>\n",
       "        <td>5.94</td>\n",
       "    </tr>\n",
       "    <tr>\n",
       "        <td>8.91</td>\n",
       "    </tr>\n",
       "    <tr>\n",
       "        <td>13.86</td>\n",
       "    </tr>\n",
       "    <tr>\n",
       "        <td>0.99</td>\n",
       "    </tr>\n",
       "    <tr>\n",
       "        <td>1.98</td>\n",
       "    </tr>\n",
       "    <tr>\n",
       "        <td>1.98</td>\n",
       "    </tr>\n",
       "    <tr>\n",
       "        <td>3.96</td>\n",
       "    </tr>\n",
       "    <tr>\n",
       "        <td>5.94</td>\n",
       "    </tr>\n",
       "</table>"
      ],
      "text/plain": [
       "[(1.98,),\n",
       " (3.96,),\n",
       " (5.94,),\n",
       " (8.91,),\n",
       " (13.86,),\n",
       " (0.99,),\n",
       " (1.98,),\n",
       " (1.98,),\n",
       " (3.96,),\n",
       " (5.94,)]"
      ]
     },
     "execution_count": 6,
     "metadata": {},
     "output_type": "execute_result"
    }
   ],
   "source": [
    "%%sql\n",
    "\n",
    "SELECT Total\n",
    "FROM invoices\n",
    "LIMIT 10;"
   ]
  },
  {
   "cell_type": "markdown",
   "metadata": {},
   "source": [
    "The `NUMERIC` column type is a convenient choice for decimals since it allows the user to specify the desired precision, i.e., we can ask to store more or less numbers before or after the decimal point."
   ]
  },
  {
   "cell_type": "markdown",
   "metadata": {},
   "source": [
    "*Note: size is an extremely important factor when considering what data type to use for a given column. Particularly when dealing with numeric data. Using bigger datatypes not only affects the size of the database itself, but also the speed of calculations. This is especially true when dealing with high precision decimal values.*"
   ]
  },
  {
   "cell_type": "markdown",
   "metadata": {
    "jp-MarkdownHeadingCollapsed": true,
    "tags": []
   },
   "source": [
    "## Assessing the datatypes of table columns"
   ]
  },
  {
   "cell_type": "markdown",
   "metadata": {},
   "source": [
    "In this section, we discuss how to find out the datatypes of columns in a given table. This will be useful when we want to use the WHERE clause (i.e. to verify the type of data in the column) or when we need to modify or add information to a given database table. \n",
    "\n",
    "First, let's load our sample database:"
   ]
  },
  {
   "cell_type": "code",
   "execution_count": null,
   "metadata": {},
   "outputs": [
    {
     "name": "stdout",
     "output_type": "stream",
     "text": [
      "The sql extension is already loaded. To reload it, use:\n",
      "  %reload_ext sql\n"
     ]
    }
   ],
   "source": [
    "# load sql magics\n",
    "%load_ext sql\n",
    "\n",
    "# load chinook database\n",
    "%sql sqlite:///chinook.db"
   ]
  },
  {
   "cell_type": "markdown",
   "metadata": {},
   "source": [
    "Chinook db ER diagram:\n",
    "\n",
    "![Chinook ERD](https://github.com/Explore-AI/Pictures/blob/master/sqlite-sample-database-color.jpg?raw=true)\n",
    "\n",
    "_[Image source](https://www.sqlitetutorial.net/sqlite-sample-database/)_"
   ]
  },
  {
   "cell_type": "markdown",
   "metadata": {},
   "source": [
    "We can show information (including column types) about a table in the database as follows:\n",
    "\n",
    "**SQLite:**"
   ]
  },
  {
   "cell_type": "code",
   "execution_count": null,
   "metadata": {},
   "outputs": [
    {
     "name": "stdout",
     "output_type": "stream",
     "text": [
      " * sqlite:///chinook.db\n",
      "   sqlite:///create-databases.sql\n",
      "Done.\n"
     ]
    },
    {
     "data": {
      "text/html": [
       "<table>\n",
       "    <tr>\n",
       "        <th>cid</th>\n",
       "        <th>name</th>\n",
       "        <th>type</th>\n",
       "        <th>notnull</th>\n",
       "        <th>dflt_value</th>\n",
       "        <th>pk</th>\n",
       "    </tr>\n",
       "</table>"
      ],
      "text/plain": [
       "[]"
      ]
     },
     "execution_count": 7,
     "metadata": {},
     "output_type": "execute_result"
    }
   ],
   "source": [
    "%%sql\n",
    "\n",
    "PRAGMA table_info(employees);"
   ]
  },
  {
   "cell_type": "markdown",
   "metadata": {},
   "source": [
    "This query uses the [PRAGMA](https://www.sqlite.org/pragma.html) statement. This is useful for querying metadata of a database."
   ]
  },
  {
   "cell_type": "markdown",
   "metadata": {
    "jp-MarkdownHeadingCollapsed": true,
    "tags": []
   },
   "source": [
    "## Conclusion"
   ]
  },
  {
   "cell_type": "markdown",
   "metadata": {},
   "source": [
    "The concepts covered in this train will be more useful in cases where you have to create your own database tables. Although not comprehensively, we have covered: \n",
    "\n",
    "- How to view table meta information in SQLite - this is particularly useful in cases where we need to assess the datatypes of table columns.\n",
    "- Common column data types in SQL such as: \n",
    "    - numerical data - `INTEGER`,`SERIAL`,`DECIMAL`, `REAL`, `DOUBLE PRECISION` \n",
    "    - text data - `CHAR(n)`,`VARCHAR(n)`, `VARCHAR`\n",
    "    - date/time data - `DATE`, `DATETIME`, `INTERVAL`.\n",
    "- How to construct queries around the above listed datatypes and useful built-in functions for each datatype.\n"
   ]
  },
  {
   "cell_type": "markdown",
   "metadata": {
    "jp-MarkdownHeadingCollapsed": true,
    "tags": []
   },
   "source": [
    "## Sources"
   ]
  },
  {
   "cell_type": "markdown",
   "metadata": {},
   "source": [
    "- Working with different datatypes in SQL <br>© Explore Data Science Academy\n",
    "\n",
    "- [SQL using MySQL : Numeric Data Types](https://www.youtube.com/watch?v=WDoWYriVCfs)"
   ]
  }
 ],
 "metadata": {
  "kernelspec": {
   "display_name": "Python 3 (ipykernel)",
   "language": "python",
   "name": "python3"
  },
  "language_info": {
   "codemirror_mode": {
    "name": "ipython",
    "version": 3
   },
   "file_extension": ".py",
   "mimetype": "text/x-python",
   "name": "python",
   "nbconvert_exporter": "python",
   "pygments_lexer": "ipython3",
   "version": "3.9.7"
  }
 },
 "nbformat": 4,
 "nbformat_minor": 4
}
